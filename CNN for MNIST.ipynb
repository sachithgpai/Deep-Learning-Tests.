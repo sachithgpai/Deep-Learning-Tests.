{
 "cells": [
  {
   "cell_type": "code",
   "execution_count": 1,
   "metadata": {},
   "outputs": [],
   "source": [
    "import tensorflow as tf\n",
    "import matplotlib.pyplot as plt\n",
    "import numpy as np\n",
    "\n",
    "sess =tf.Session()"
   ]
  },
  {
   "cell_type": "code",
   "execution_count": 2,
   "metadata": {},
   "outputs": [],
   "source": [
    "mnist = tf.keras.datasets.mnist\n",
    "(train_data,train_label),(test_data,test_label) = mnist.load_data()"
   ]
  },
  {
   "cell_type": "code",
   "execution_count": 3,
   "metadata": {},
   "outputs": [],
   "source": [
    "#normalizing data\n",
    "train_data = train_data/256.0\n",
    "test_data = test_data/256.0"
   ]
  },
  {
   "cell_type": "code",
   "execution_count": 4,
   "metadata": {},
   "outputs": [],
   "source": [
    "N_train = train_data.shape[0]\n",
    "N_test = test_data.shape[0]\n",
    "data_dim = train_data.shape[1]\n",
    "minibatch_size = 1000"
   ]
  },
  {
   "cell_type": "code",
   "execution_count": 5,
   "metadata": {},
   "outputs": [],
   "source": [
    "class convLayer:\n",
    "    def __init__(self,fil_w,fil_h,in_chan,out_chan,strides=[1,1,1,1],pad=\"SAME\"):\n",
    "        self.fil_w = fil_w\n",
    "        self.fil_h = fil_h\n",
    "        self.strides = strides\n",
    "        self.padding = pad\n",
    "        self.filters = tf.Variable(tf.truncated_normal([fil_h,fil_w,in_chan,out_chan],stddev=0.1))\n",
    "        self.bias = tf.Variable(np.zeros(out_chan))\n",
    "    \n",
    "    def layer_output(self,inp):\n",
    "        return tf.nn.conv2d(inp,self.filters,self.strides,self.padding)\n",
    "        "
   ]
  },
  {
   "cell_type": "code",
   "execution_count": 6,
   "metadata": {},
   "outputs": [],
   "source": [
    "class poolLayer:\n",
    "    def __init__(self,win_shape,strides=None,pool=\"MAX\",pad=\"SAME\"):\n",
    "        self.win_shape = win_shape\n",
    "        self.padding = pad\n",
    "        self.strides = strides\n",
    "        self.pool_type = pool\n",
    "        \n",
    "    def layer_output(self,inp):\n",
    "        return tf.nn.pool(inp,self.win_shape,self.pool_type,self.padding,strides=self.strides)"
   ]
  },
  {
   "cell_type": "code",
   "execution_count": 7,
   "metadata": {},
   "outputs": [],
   "source": [
    "class reluLayer:\n",
    "    def layer_output(self,inp):\n",
    "        return tf.nn.relu(inp)"
   ]
  },
  {
   "cell_type": "code",
   "execution_count": 8,
   "metadata": {},
   "outputs": [],
   "source": [
    "class fcLayer:\n",
    "    def __init__(self,w,h,ch):\n",
    "        self.W = tf.Variable(tf.truncated_normal([w*h*ch,10],stddev=0.1))\n",
    "        \n",
    "    def layer_output(self,inp):\n",
    "        return tf.matmul(tf.layers.flatten(inp),self.W)"
   ]
  },
  {
   "cell_type": "code",
   "execution_count": 9,
   "metadata": {},
   "outputs": [],
   "source": [
    "train_x = tf.placeholder(tf.float32,(minibatch_size,data_dim,data_dim))\n",
    "train_y = tf.placeholder(tf.uint8,(minibatch_size,))"
   ]
  },
  {
   "cell_type": "code",
   "execution_count": 10,
   "metadata": {},
   "outputs": [],
   "source": [
    "layer1 = convLayer(5,5,1,10)\n",
    "layer2 = reluLayer()\n",
    "layer3 = poolLayer([3,3])\n",
    "layer4 = convLayer(3,3,10,10)\n",
    "layer5 = reluLayer()\n",
    "layer6 = poolLayer([5,5])\n",
    "layer7 = fcLayer(28,28,10)"
   ]
  },
  {
   "cell_type": "code",
   "execution_count": 11,
   "metadata": {},
   "outputs": [],
   "source": [
    "l1_out = layer1.layer_output(tf.expand_dims(train_x,-1))\n",
    "l2_out = layer2.layer_output(l1_out)\n",
    "l3_out = layer3.layer_output(l2_out)\n",
    "\n",
    "l4_out = layer4.layer_output(l3_out)\n",
    "l5_out = layer5.layer_output(l4_out)\n",
    "l6_out = layer6.layer_output(l5_out)\n",
    "l7_out = layer7.layer_output(l6_out)\n",
    "output_value = l7_out"
   ]
  },
  {
   "cell_type": "code",
   "execution_count": 12,
   "metadata": {},
   "outputs": [],
   "source": [
    "loss = tf.reduce_mean(tf.nn.softmax_cross_entropy_with_logits_v2(labels=tf.one_hot(train_y,10),logits=output_value))"
   ]
  },
  {
   "cell_type": "code",
   "execution_count": 13,
   "metadata": {},
   "outputs": [],
   "source": [
    "init_op = tf.global_variables_initializer()\n",
    "sess.run(init_op)"
   ]
  },
  {
   "cell_type": "code",
   "execution_count": 14,
   "metadata": {},
   "outputs": [],
   "source": [
    "optimizer = tf.train.GradientDescentOptimizer(0.01)\n",
    "train = optimizer.minimize(loss)"
   ]
  },
  {
   "cell_type": "code",
   "execution_count": 15,
   "metadata": {
    "scrolled": true
   },
   "outputs": [],
   "source": [
    "# minibatching because the training is super slow\n",
    "\n",
    "loss_arr = []\n",
    "for i in range(1000):\n",
    "    rand_index = np.random.choice(N_train, size=minibatch_size)\n",
    "    t_x = train_data[rand_index]\n",
    "    t_y = train_label[rand_index]\n",
    "    _, loss_value = sess.run((train,loss),feed_dict={train_x:t_x,train_y:t_y})\n",
    "    loss_arr.append(loss_value)\n"
   ]
  },
  {
   "cell_type": "code",
   "execution_count": 16,
   "metadata": {},
   "outputs": [
    {
     "data": {
      "image/png": "[encoded data removed]",
      "text/plain": [
       "<Figure size 432x288 with 1 Axes>"
      ]
     },
     "metadata": {
      "needs_background": "light"
     },
     "output_type": "display_data"
    }
   ],
   "source": [
    "plt.plot(np.arange(0,1000),loss_arr)\n",
    "plt.show()"
   ]
  },
  {
   "cell_type": "code",
   "execution_count": 17,
   "metadata": {},
   "outputs": [],
   "source": [
    "def batch_eval(data,label):\n",
    "    print(data.shape)\n",
    "    \n",
    "    ypred = []\n",
    "    for i in range(int(data.shape[0]/1000)):\n",
    "        \n",
    "        t_x = data[i*1000:(i+1)*1000]\n",
    "        t_y = label[i*1000:(i+1)*1000]   \n",
    "        soft_pred = sess.run(output_value,feed_dict={train_x:t_x,train_y:t_y})\n",
    "        pred = np.argmax(soft_pred,axis=1)\n",
    "        ypred.append(pred)\n",
    "    return np.reshape(np.array(ypred),(-1))"
   ]
  },
  {
   "cell_type": "code",
   "execution_count": 18,
   "metadata": {},
   "outputs": [
    {
     "name": "stdout",
     "output_type": "stream",
     "text": [
      "(60000, 28, 28)\n",
      "Accuracy on training data: 96.295\n"
     ]
    }
   ],
   "source": [
    "ypred = batch_eval(train_data,train_label)\n",
    "print(\"Accuracy on training data: %.3f\"%(np.mean(np.equal(ypred,train_label))*100))"
   ]
  },
  {
   "cell_type": "code",
   "execution_count": 19,
   "metadata": {},
   "outputs": [
    {
     "name": "stdout",
     "output_type": "stream",
     "text": [
      "(10000, 28, 28)\n",
      "Accuracy on training data: 96.690\n"
     ]
    }
   ],
   "source": [
    "ypred = batch_eval(test_data,test_label)\n",
    "print(\"Accuracy on training data: %.3f\"%(np.mean(np.equal(ypred,test_label))*100))"
   ]
  },
  {
   "cell_type": "code",
   "execution_count": null,
   "metadata": {},
   "outputs": [],
   "source": []
  },
  {
   "cell_type": "code",
   "execution_count": null,
   "metadata": {},
   "outputs": [],
   "source": []
  }
 ],
 "metadata": {
  "kernelspec": {
   "display_name": "Python 3",
   "language": "python",
   "name": "python3"
  },
  "language_info": {
   "codemirror_mode": {
    "name": "ipython",
    "version": 3
   },
   "file_extension": ".py",
   "mimetype": "text/x-python",
   "name": "python",
   "nbconvert_exporter": "python",
   "pygments_lexer": "ipython3",
   "version": "3.6.8"
  }
 },
 "nbformat": 4,
 "nbformat_minor": 2
}
