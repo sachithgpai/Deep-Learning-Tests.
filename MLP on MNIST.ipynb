{
 "cells": [
  {
   "cell_type": "code",
   "execution_count": 1,
   "metadata": {},
   "outputs": [],
   "source": [
    "import tensorflow as tf\n",
    "import matplotlib.pyplot as plt\n",
    "import numpy as np\n",
    "from sklearn.preprocessing import LabelBinarizer\n",
    "sess =tf.Session()"
   ]
  },
  {
   "cell_type": "code",
   "execution_count": 2,
   "metadata": {},
   "outputs": [],
   "source": [
    "mnist = tf.keras.datasets.mnist\n",
    "(train_data,train_label),(test_data,test_label) = mnist.load_data()"
   ]
  },
  {
   "cell_type": "code",
   "execution_count": 3,
   "metadata": {},
   "outputs": [],
   "source": [
    "# Normalization \n",
    "train_data = train_data/256\n",
    "test_data = test_data/256"
   ]
  },
  {
   "cell_type": "code",
   "execution_count": 4,
   "metadata": {},
   "outputs": [],
   "source": [
    "train_shape = np.shape(train_data)\n",
    "train_data_flat = np.reshape(train_data,[train_shape[0],-1])\n",
    "N_train = train_shape[0]\n",
    "data_dim = train_data_flat.shape[1]\n",
    "minibatch_size = 1000"
   ]
  },
  {
   "cell_type": "code",
   "execution_count": 5,
   "metadata": {},
   "outputs": [],
   "source": [
    "class Layer:\n",
    "    def __init__(self,inp,out,activation=tf.nn.relu):\n",
    "        self.W = tf.Variable(tf.truncated_normal([inp, out], stddev=0.1))\n",
    "        self.activation = activation\n",
    "        self.bias = tf.Variable(np.zeros(out),dtype=tf.float32)\n",
    "\n",
    "    def layer_output(self,x):\n",
    "        return self.activation(tf.matmul(x,self.W) +self.bias)\n",
    "    "
   ]
  },
  {
   "cell_type": "code",
   "execution_count": 6,
   "metadata": {},
   "outputs": [],
   "source": [
    "train_x = tf.placeholder(tf.float32,(minibatch_size,data_dim))\n",
    "train_y = tf.placeholder(tf.int32,(minibatch_size,))"
   ]
  },
  {
   "cell_type": "code",
   "execution_count": 7,
   "metadata": {
    "scrolled": true
   },
   "outputs": [],
   "source": [
    "layer1 = Layer(data_dim,500)\n",
    "layer2 = Layer(500,400)\n",
    "layer3 = Layer(400,200)\n",
    "layer4 = Layer(200,10,activation=tf.nn.softmax)\n",
    "\n",
    "\n",
    "l1_out = layer1.layer_output(tf.to_float(train_x))\n",
    "l2_out = layer2.layer_output(l1_out)\n",
    "l3_out = layer3.layer_output(l2_out)\n",
    "l4_out = tf.matmul(l3_out,layer4.W) + layer4.bias"
   ]
  },
  {
   "cell_type": "code",
   "execution_count": 8,
   "metadata": {},
   "outputs": [],
   "source": [
    "loss = tf.reduce_mean(tf.nn.softmax_cross_entropy_with_logits_v2(labels=tf.one_hot(train_y,10),logits=l4_out))"
   ]
  },
  {
   "cell_type": "code",
   "execution_count": 9,
   "metadata": {},
   "outputs": [],
   "source": [
    "optimizer = tf.train.AdamOptimizer(0.0001)\n",
    "train = optimizer.minimize(loss)"
   ]
  },
  {
   "cell_type": "code",
   "execution_count": 10,
   "metadata": {},
   "outputs": [],
   "source": [
    "init_op = tf.global_variables_initializer()\n",
    "sess.run(init_op)"
   ]
  },
  {
   "cell_type": "code",
   "execution_count": 11,
   "metadata": {
    "scrolled": false
   },
   "outputs": [],
   "source": [
    "# minibatching because the training is super slow\n",
    "\n",
    "loss_arr = []\n",
    "for i in range(1000):\n",
    "    rand_index = np.random.choice(N_train, size=minibatch_size)\n",
    "    t_x = train_data_flat[rand_index]\n",
    "    t_y = train_label[rand_index]    \n",
    "    _, loss_value = sess.run([train,loss],feed_dict={train_x:t_x,train_y:t_y})\n",
    "    loss_arr.append(loss_value)\n"
   ]
  },
  {
   "cell_type": "code",
   "execution_count": 21,
   "metadata": {},
   "outputs": [
    {
     "data": {
      "image/png": "[encoded data removed]",
      "text/plain": [
       "<Figure size 432x288 with 1 Axes>"
      ]
     },
     "metadata": {
      "needs_background": "light"
     },
     "output_type": "display_data"
    }
   ],
   "source": [
    "plt.plot(np.arange(len(loss_arr)),loss_arr)\n",
    "plt.title(\"Error curve\")\n",
    "# plt.savefig(\"MLP-MNIST-err\")\n",
    "plt.show()\n"
   ]
  },
  {
   "cell_type": "code",
   "execution_count": 13,
   "metadata": {},
   "outputs": [],
   "source": [
    "def batch_eval(data,label):\n",
    "    print(data.shape)\n",
    "    \n",
    "    ypred = []\n",
    "    for i in range(int(data.shape[0]/1000)):\n",
    "        \n",
    "        t_x = data[i*1000:(i+1)*1000]\n",
    "        t_y = label[i*1000:(i+1)*1000]   \n",
    "        soft_pred = sess.run(l4_out,feed_dict={train_x:t_x,train_y:t_y})\n",
    "        pred = np.argmax(soft_pred,axis=1)\n",
    "        ypred.append(pred)\n",
    "    return np.reshape(np.array(ypred),(-1))"
   ]
  },
  {
   "cell_type": "code",
   "execution_count": 14,
   "metadata": {},
   "outputs": [
    {
     "name": "stdout",
     "output_type": "stream",
     "text": [
      "(60000, 784)\n",
      "Accuracy on training data: 98.388\n"
     ]
    }
   ],
   "source": [
    "ypred = batch_eval(train_data_flat,train_label)\n",
    "print(\"Accuracy on training data: %.3f\"%(np.mean(np.equal(ypred,train_label))*100))"
   ]
  },
  {
   "cell_type": "code",
   "execution_count": 15,
   "metadata": {},
   "outputs": [
    {
     "name": "stdout",
     "output_type": "stream",
     "text": [
      "(10000, 784)\n",
      "Accuracy on test data: 97.170\n"
     ]
    }
   ],
   "source": [
    "ypred = batch_eval(np.reshape(test_data,(10000,-1)),test_label)\n",
    "print(\"Accuracy on test data: %.3f\"%(np.mean(np.equal(ypred,test_label))*100))"
   ]
  },
  {
   "cell_type": "code",
   "execution_count": 16,
   "metadata": {},
   "outputs": [],
   "source": [
    "conf = np.zeros((10,10),dtype=np.int32)\n",
    "for x,y in zip(ypred,test_label):\n",
    "    if x!=y:\n",
    "        conf[x,y] +=1\n"
   ]
  },
  {
   "cell_type": "code",
   "execution_count": 18,
   "metadata": {},
   "outputs": [],
   "source": [
    "import itertools"
   ]
  },
  {
   "cell_type": "code",
   "execution_count": 19,
   "metadata": {},
   "outputs": [],
   "source": [
    "def plot_confusion_matrix(cm, classes,\n",
    "                          normalize=False,\n",
    "                          title='Confusion matrix',\n",
    "                          cmap=plt.cm.Blues):\n",
    "    \"\"\"\n",
    "    This function prints and plots the confusion matrix.\n",
    "    Normalization can be applied by setting `normalize=True`.\n",
    "    \"\"\"\n",
    "\n",
    "    plt.imshow(cm, interpolation='nearest', cmap=cmap)\n",
    "    plt.title(title)\n",
    "    plt.colorbar()\n",
    "    tick_marks = np.arange(len(classes))\n",
    "    plt.xticks(tick_marks, classes, rotation=45)\n",
    "    plt.yticks(tick_marks, classes)\n",
    "\n",
    "    fmt = 'd'\n",
    "    thresh = cm.max() / 2.\n",
    "    for i, j in itertools.product(range(cm.shape[0]), range(cm.shape[1])):\n",
    "        plt.text(j, i, format(cm[i, j], fmt),\n",
    "                 horizontalalignment=\"center\",\n",
    "                 color=\"white\" if cm[i, j] > thresh else \"black\")\n",
    "\n",
    "    plt.ylabel('True label')\n",
    "    plt.xlabel('Predicted label')\n",
    "    plt.tight_layout()"
   ]
  },
  {
   "cell_type": "code",
   "execution_count": 20,
   "metadata": {},
   "outputs": [
    {
     "data": {
      "image/png": "[encoded data removed]",
      "text/plain": [
       "<Figure size 432x288 with 2 Axes>"
      ]
     },
     "metadata": {
      "needs_background": "light"
     },
     "output_type": "display_data"
    }
   ],
   "source": [
    "plot_confusion_matrix(conf,[ str(x) for x in np.arange(0,10)])"
   ]
  },
  {
   "cell_type": "code",
   "execution_count": null,
   "metadata": {},
   "outputs": [],
   "source": []
  }
 ],
 "metadata": {
  "kernelspec": {
   "display_name": "Python 3",
   "language": "python",
   "name": "python3"
  },
  "language_info": {
   "codemirror_mode": {
    "name": "ipython",
    "version": 3
   },
   "file_extension": ".py",
   "mimetype": "text/x-python",
   "name": "python",
   "nbconvert_exporter": "python",
   "pygments_lexer": "ipython3",
   "version": "3.6.8"
  }
 },
 "nbformat": 4,
 "nbformat_minor": 2
}
