{
 "cells": [
  {
   "cell_type": "code",
   "execution_count": 1,
   "metadata": {},
   "outputs": [],
   "source": [
    "import tensorflow as tf\n",
    "import matplotlib.pyplot as plt\n",
    "import numpy as np\n",
    "from sklearn.preprocessing import LabelBinarizer\n",
    "sess =tf.Session()"
   ]
  },
  {
   "cell_type": "code",
   "execution_count": 2,
   "metadata": {},
   "outputs": [],
   "source": [
    "mnist = tf.keras.datasets.mnist\n",
    "(train_data,train_label),(test_data,test_label) = mnist.load_data()\n",
    "\n",
    "train_shape = np.shape(train_data)\n",
    "N_train = train_shape[0]\n",
    "data_dim = train_data.shape[1]\n",
    "minibatch_size = 500"
   ]
  },
  {
   "cell_type": "markdown",
   "metadata": {},
   "source": [
    "Normalizing the data to make learning faster."
   ]
  },
  {
   "cell_type": "code",
   "execution_count": 3,
   "metadata": {},
   "outputs": [],
   "source": [
    "train_data = train_data/256.0\n",
    "test_data = test_data/256.0"
   ]
  },
  {
   "cell_type": "markdown",
   "metadata": {},
   "source": [
    "RNN unit with propagate function"
   ]
  },
  {
   "cell_type": "code",
   "execution_count": 4,
   "metadata": {},
   "outputs": [],
   "source": [
    "class RNN:\n",
    "    def __init__(self,dim):\n",
    "        self.W = tf.Variable(tf.truncated_normal([dim,dim ], stddev=0.1))\n",
    "        self.U = tf.Variable(tf.truncated_normal([dim,dim ], stddev=0.1))\n",
    "        self.b = tf.Variable(np.zeros((1,dim)),dtype=tf.float32)\n",
    "        \n",
    "        self.V = tf.Variable(tf.truncated_normal([dim, 10], stddev=0.1))\n",
    "        self.c = tf.Variable(np.zeros(10),dtype=tf.float32)\n",
    "        \n",
    "        self.h0 = tf.Variable(tf.truncated_normal([1,dim], stddev=0.1))\n",
    "        \n",
    "        self.dim = dim\n",
    "\n",
    "    def propagate(self,x):\n",
    "        h_run = self.h0\n",
    "        X = tf.transpose(x,[1,0,2])\n",
    "        for i in range(self.dim):\n",
    "            a = self.b + tf.matmul(h_run,self.U) \n",
    "            a = a + tf.matmul(x[:,i,:],self.W)\n",
    "            h_run = tf.tanh(a)\n",
    "        \n",
    "        o = self.c + tf.matmul(h_run,self.V)\n",
    "        y = tf.nn.softmax(o)\n",
    "        return y\n",
    "            "
   ]
  },
  {
   "cell_type": "markdown",
   "metadata": {},
   "source": [
    "Initializing the placeholders for the data"
   ]
  },
  {
   "cell_type": "code",
   "execution_count": 5,
   "metadata": {},
   "outputs": [],
   "source": [
    "train_x = tf.placeholder(tf.float32,(minibatch_size,data_dim,data_dim))\n",
    "train_y = tf.placeholder(tf.int32,(minibatch_size,))"
   ]
  },
  {
   "cell_type": "code",
   "execution_count": 6,
   "metadata": {
    "scrolled": true
   },
   "outputs": [],
   "source": [
    "rnn = RNN(data_dim)\n",
    "output_value = rnn.propagate(train_x)"
   ]
  },
  {
   "cell_type": "code",
   "execution_count": 7,
   "metadata": {},
   "outputs": [],
   "source": [
    "loss = tf.reduce_mean(tf.nn.softmax_cross_entropy_with_logits_v2(labels=tf.one_hot(train_y,10),logits=output_value))"
   ]
  },
  {
   "cell_type": "code",
   "execution_count": 8,
   "metadata": {},
   "outputs": [],
   "source": [
    "optimizer = tf.train.AdamOptimizer(0.0001)\n",
    "train = optimizer.minimize(loss)"
   ]
  },
  {
   "cell_type": "code",
   "execution_count": 9,
   "metadata": {},
   "outputs": [],
   "source": [
    "init_op = tf.global_variables_initializer()\n",
    "sess.run(init_op)"
   ]
  },
  {
   "cell_type": "code",
   "execution_count": 10,
   "metadata": {
    "scrolled": false
   },
   "outputs": [],
   "source": [
    "# minibatching because the training is super slow with the whole dataset.\n",
    "\n",
    "loss_arr = []\n",
    "for i in range(10000):\n",
    "    rand_index = np.random.choice(N_train, size=minibatch_size)\n",
    "    t_x = train_data[rand_index]\n",
    "    t_y = train_label[rand_index]    \n",
    "    _, loss_value = sess.run([train,loss],feed_dict={train_x:t_x,train_y:t_y})\n",
    "    loss_arr.append(loss_value)\n"
   ]
  },
  {
   "cell_type": "code",
   "execution_count": 11,
   "metadata": {},
   "outputs": [
    {
     "data": {
      "image/png": "[encoded data removed]",
      "text/plain": [
       "<Figure size 432x288 with 1 Axes>"
      ]
     },
     "metadata": {
      "needs_background": "light"
     },
     "output_type": "display_data"
    }
   ],
   "source": [
    "plt.plot(np.arange(len(loss_arr)),loss_arr)\n",
    "#plt.savefig(\"LSTM-MNIST-err\")\n",
    "plt.show()\n"
   ]
  },
  {
   "cell_type": "code",
   "execution_count": 12,
   "metadata": {},
   "outputs": [],
   "source": [
    "def batch_eval(data,label):\n",
    "    print(data.shape)\n",
    "    \n",
    "    ypred = []\n",
    "    for i in range(int(data.shape[0]/minibatch_size)):\n",
    "        \n",
    "        t_x = data[i*minibatch_size:(i+1)*minibatch_size]\n",
    "        t_y = label[i*minibatch_size:(i+1)*minibatch_size]   \n",
    "        soft_pred = sess.run(output_value,feed_dict={train_x:t_x,train_y:t_y})\n",
    "        pred = np.argmax(soft_pred,axis=1)\n",
    "        ypred.append(pred)\n",
    "    return np.reshape(np.array(ypred),(-1))"
   ]
  },
  {
   "cell_type": "code",
   "execution_count": 13,
   "metadata": {},
   "outputs": [
    {
     "name": "stdout",
     "output_type": "stream",
     "text": [
      "(60000, 28, 28)\n",
      "Accuracy on training data: 79.363\n"
     ]
    }
   ],
   "source": [
    "ypred = batch_eval(train_data,train_label)\n",
    "print(\"Accuracy on training data: %.3f\"%(np.mean(np.equal(ypred,train_label))*100))"
   ]
  },
  {
   "cell_type": "code",
   "execution_count": 14,
   "metadata": {},
   "outputs": [
    {
     "name": "stdout",
     "output_type": "stream",
     "text": [
      "(10000, 28, 28)\n",
      "Accuracy on test data: 79.410\n"
     ]
    }
   ],
   "source": [
    "ypred = batch_eval(test_data,test_label)\n",
    "print(\"Accuracy on test data: %.3f\"%(np.mean(np.equal(ypred,test_label))*100))"
   ]
  },
  {
   "cell_type": "code",
   "execution_count": null,
   "metadata": {},
   "outputs": [],
   "source": []
  }
 ],
 "metadata": {
  "kernelspec": {
   "display_name": "Python 3",
   "language": "python",
   "name": "python3"
  },
  "language_info": {
   "codemirror_mode": {
    "name": "ipython",
    "version": 3
   },
   "file_extension": ".py",
   "mimetype": "text/x-python",
   "name": "python",
   "nbconvert_exporter": "python",
   "pygments_lexer": "ipython3",
   "version": "3.6.8"
  }
 },
 "nbformat": 4,
 "nbformat_minor": 2
}
