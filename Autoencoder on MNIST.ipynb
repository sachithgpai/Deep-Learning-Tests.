{
 "cells": [
  {
   "cell_type": "code",
   "execution_count": 1,
   "metadata": {},
   "outputs": [],
   "source": [
    "import tensorflow as tf\n",
    "import matplotlib.pyplot as plt\n",
    "import numpy as np\n",
    "from sklearn.preprocessing import LabelBinarizer\n",
    "sess =tf.Session()"
   ]
  },
  {
   "cell_type": "code",
   "execution_count": 2,
   "metadata": {},
   "outputs": [],
   "source": [
    "mnist = tf.keras.datasets.mnist\n",
    "(train_data,train_label),(test_data,test_label) = mnist.load_data()"
   ]
  },
  {
   "cell_type": "code",
   "execution_count": 3,
   "metadata": {},
   "outputs": [],
   "source": [
    "# Normalization\n",
    "train_data = train_data/256.0\n",
    "test_data = test_data/256.0"
   ]
  },
  {
   "cell_type": "code",
   "execution_count": 4,
   "metadata": {},
   "outputs": [],
   "source": [
    "train_shape = np.shape(train_data)\n",
    "train_data_flat = np.reshape(train_data,[train_shape[0],-1])\n",
    "N_train = train_shape[0]\n",
    "data_dim = train_data_flat.shape[1]\n",
    "minibatch_size = 1000"
   ]
  },
  {
   "cell_type": "markdown",
   "metadata": {},
   "source": [
    "In this notebook I try to play around with the "
   ]
  },
  {
   "cell_type": "code",
   "execution_count": 5,
   "metadata": {},
   "outputs": [],
   "source": [
    "class Layer:\n",
    "    def __init__(self,inp,out,activation=tf.nn.relu):\n",
    "        self.W = tf.Variable(tf.truncated_normal([inp, out], stddev=0.1))\n",
    "        self.activation = activation\n",
    "        self.bias = tf.Variable(np.zeros(out),dtype=tf.float32)\n",
    "\n",
    "    def layer_output(self,x):\n",
    "        return self.activation(tf.matmul(x,self.W) +self.bias)\n",
    "    "
   ]
  },
  {
   "cell_type": "code",
   "execution_count": 6,
   "metadata": {},
   "outputs": [],
   "source": [
    "train_x = tf.placeholder(tf.float32,(minibatch_size,data_dim))\n",
    "train_y = tf.placeholder(tf.int32,(minibatch_size,))"
   ]
  },
  {
   "cell_type": "code",
   "execution_count": 7,
   "metadata": {},
   "outputs": [],
   "source": [
    "layer1 = Layer(data_dim,500)\n",
    "layer2 = Layer(500,400)\n",
    "layer3 = Layer(400,200)\n",
    "layer4 = Layer(200,10)\n",
    "layer5 = Layer(10,200)\n",
    "layer6 = Layer(200,400)\n",
    "layer7 = Layer(400,500)\n",
    "layer8 = Layer(500,data_dim)"
   ]
  },
  {
   "cell_type": "code",
   "execution_count": 8,
   "metadata": {
    "scrolled": true
   },
   "outputs": [],
   "source": [
    "l1_out = layer1.layer_output(train_x)\n",
    "l2_out = layer2.layer_output(l1_out)\n",
    "l3_out = layer3.layer_output(l2_out)\n",
    "l4_out = layer4.layer_output(l3_out)\n",
    "l5_out = layer5.layer_output(l4_out)\n",
    "l6_out = layer6.layer_output(l5_out)\n",
    "l7_out = layer7.layer_output(l6_out)\n",
    "l8_out = layer8.layer_output(l7_out)"
   ]
  },
  {
   "cell_type": "code",
   "execution_count": 9,
   "metadata": {},
   "outputs": [],
   "source": [
    "loss = tf.losses.mean_squared_error(train_x,l8_out)"
   ]
  },
  {
   "cell_type": "code",
   "execution_count": 10,
   "metadata": {},
   "outputs": [],
   "source": [
    "optimizer = tf.train.AdamOptimizer(0.0001)\n",
    "train = optimizer.minimize(loss)"
   ]
  },
  {
   "cell_type": "code",
   "execution_count": 11,
   "metadata": {},
   "outputs": [],
   "source": [
    "init_op = tf.global_variables_initializer()\n",
    "sess.run(init_op)"
   ]
  },
  {
   "cell_type": "code",
   "execution_count": 12,
   "metadata": {
    "scrolled": false
   },
   "outputs": [],
   "source": [
    "# minibatching because the training is super slow\n",
    "\n",
    "loss_arr = []\n",
    "for i in range(100000):\n",
    "    rand_index = np.random.choice(N_train, size=minibatch_size)\n",
    "    t_x = train_data_flat[rand_index]\n",
    "    t_y = train_label[rand_index]    \n",
    "    _, loss_value = sess.run([train,loss],feed_dict={train_x:t_x})\n",
    "    loss_arr.append(loss_value)\n"
   ]
  },
  {
   "cell_type": "code",
   "execution_count": 13,
   "metadata": {},
   "outputs": [
    {
     "data": {
      "image/png": "[encoded data removed]",
      "text/plain": [
       "<Figure size 432x288 with 1 Axes>"
      ]
     },
     "metadata": {
      "needs_background": "light"
     },
     "output_type": "display_data"
    }
   ],
   "source": [
    "plt.plot(np.arange(len(loss_arr)),loss_arr)\n",
    "plt.title(\"Reconstruction error of 784-500-400-200-10 AE\")\n",
    "plt.savefig(\"AE-MNIST-err\")\n",
    "plt.show()\n"
   ]
  },
  {
   "cell_type": "code",
   "execution_count": 14,
   "metadata": {},
   "outputs": [],
   "source": [
    "def batch_eval(data,label):\n",
    "    print(data.shape)\n",
    "    \n",
    "    ypred = []\n",
    "    for i in range(int(data.shape[0]/minibatch_size)):\n",
    "        t_x = data[i*minibatch_size:(i+1)*minibatch_size]\n",
    "        img_pred_loss = sess.run(loss,feed_dict={train_x:t_x})\n",
    "        ypred.append(img_pred_loss)\n",
    "    return np.mean(ypred)"
   ]
  },
  {
   "cell_type": "code",
   "execution_count": 15,
   "metadata": {},
   "outputs": [
    {
     "name": "stdout",
     "output_type": "stream",
     "text": [
      "(60000, 784)\n",
      "Loss on training data: 0.013730\n"
     ]
    }
   ],
   "source": [
    "ypred = batch_eval(train_data_flat,train_label)\n",
    "print(\"Loss on training data: %f\"%(ypred))"
   ]
  },
  {
   "cell_type": "code",
   "execution_count": 16,
   "metadata": {},
   "outputs": [
    {
     "name": "stdout",
     "output_type": "stream",
     "text": [
      "(10000, 784)\n",
      "Loss on test data: 0.019704\n"
     ]
    }
   ],
   "source": [
    "ypred = batch_eval(np.reshape(test_data,(10000,-1)),test_label)\n",
    "print(\"Loss on test data: %f\"%(ypred))"
   ]
  },
  {
   "cell_type": "code",
   "execution_count": 17,
   "metadata": {},
   "outputs": [],
   "source": [
    "t_x = train_data_flat[:minibatch_size]\n",
    "imgs = sess.run(l8_out,feed_dict={train_x:t_x})"
   ]
  },
  {
   "cell_type": "code",
   "execution_count": null,
   "metadata": {},
   "outputs": [],
   "source": []
  },
  {
   "cell_type": "code",
   "execution_count": 18,
   "metadata": {
    "scrolled": false
   },
   "outputs": [
    {
     "data": {
      "image/png": "[encoded data removed]",
      "text/plain": [
       "<Figure size 720x720 with 10 Axes>"
      ]
     },
     "metadata": {
      "needs_background": "light"
     },
     "output_type": "display_data"
    }
   ],
   "source": [
    "img_idx = np.random.choice(minibatch_size,replace=False,size=5)\n",
    "fig ,ax = plt.subplots(5,2,figsize=(10,10))\n",
    "for i,idx in enumerate(img_idx):\n",
    "    ax[i,0].imshow(np.reshape(t_x[idx],(28,28)))\n",
    "    ax[i,1].imshow(np.reshape(imgs[idx],(28,28)))\n",
    "\n",
    "ax[0,0].set_title(\"Original image\")\n",
    "ax[0,1].set_title(\"Reconstructed image\")\n",
    "plt.show()"
   ]
  },
  {
   "cell_type": "code",
   "execution_count": null,
   "metadata": {},
   "outputs": [],
   "source": []
  }
 ],
 "metadata": {
  "kernelspec": {
   "display_name": "Python 3",
   "language": "python",
   "name": "python3"
  },
  "language_info": {
   "codemirror_mode": {
    "name": "ipython",
    "version": 3
   },
   "file_extension": ".py",
   "mimetype": "text/x-python",
   "name": "python",
   "nbconvert_exporter": "python",
   "pygments_lexer": "ipython3",
   "version": "3.6.8"
  }
 },
 "nbformat": 4,
 "nbformat_minor": 2
}
